{
 "cells": [
  {
   "cell_type": "code",
   "execution_count": 24,
   "metadata": {},
   "outputs": [],
   "source": [
    "from sklearn.model_selection import train_test_split\n",
    "from sklearn.metrics import accuracy_score,classification_report,confusion_matrix\n",
    "from sklearn.feature_extraction.text import CountVectorizer,TfidfTransformer\n",
    "from sklearn.model_selection import cross_val_score\n",
    "from sklearn.svm import LinearSVC\n",
    "from sklearn.naive_bayes import MultinomialNB\n",
    "from sklearn.linear_model import LogisticRegression\n",
    "import pandas as pd\n",
    "import seaborn as sn\n",
    "import numpy as np\n",
    "import matplotlib.pyplot as plt\n",
    "#from gensim.models.doc2vec import Doc2Vec, TaggedDocument"
   ]
  },
  {
   "cell_type": "code",
   "execution_count": 3,
   "metadata": {},
   "outputs": [],
   "source": [
    "df=pd.read_csv(\"cleaned_set.csv\")\n",
    "df=df.dropna()"
   ]
  },
  {
   "cell_type": "code",
   "execution_count": 4,
   "metadata": {},
   "outputs": [],
   "source": [
    "x_train, x_test, y_train, y_test=train_test_split(df[\"tweet\"],df[\"sentiment\"],test_size=0.2,random_state=2)"
   ]
  },
  {
   "cell_type": "code",
   "execution_count": 5,
   "metadata": {},
   "outputs": [
    {
     "data": {
      "text/plain": [
       "(6449, 9958)"
      ]
     },
     "execution_count": 5,
     "metadata": {},
     "output_type": "execute_result"
    }
   ],
   "source": [
    "#create count vector for each word in training set\n",
    "cvector=CountVectorizer()\n",
    "xcvector=cvector.fit_transform(x_train)\n",
    "xcvector.shape"
   ]
  },
  {
   "cell_type": "code",
   "execution_count": 6,
   "metadata": {},
   "outputs": [],
   "source": [
    "#tf-idf transformation\n",
    "tfidf_transformer=TfidfTransformer()\n",
    "x_tfidf=tfidf_transformer.fit(xcvector)\n",
    "x_tfidf=tfidf_transformer.transform(xcvector)"
   ]
  },
  {
   "cell_type": "code",
   "execution_count": 7,
   "metadata": {},
   "outputs": [
    {
     "data": {
      "text/html": [
       "<div>\n",
       "<style scoped>\n",
       "    .dataframe tbody tr th:only-of-type {\n",
       "        vertical-align: middle;\n",
       "    }\n",
       "\n",
       "    .dataframe tbody tr th {\n",
       "        vertical-align: top;\n",
       "    }\n",
       "\n",
       "    .dataframe thead th {\n",
       "        text-align: right;\n",
       "    }\n",
       "</style>\n",
       "<table border=\"1\" class=\"dataframe\">\n",
       "  <thead>\n",
       "    <tr style=\"text-align: right;\">\n",
       "      <th></th>\n",
       "      <th>tf-idf</th>\n",
       "    </tr>\n",
       "  </thead>\n",
       "  <tbody>\n",
       "    <tr>\n",
       "      <th>save</th>\n",
       "      <td>0.482420</td>\n",
       "    </tr>\n",
       "    <tr>\n",
       "      <th>yours</th>\n",
       "      <td>0.440517</td>\n",
       "    </tr>\n",
       "    <tr>\n",
       "      <th>able</th>\n",
       "      <td>0.383143</td>\n",
       "    </tr>\n",
       "    <tr>\n",
       "      <th>god</th>\n",
       "      <td>0.359284</td>\n",
       "    </tr>\n",
       "    <tr>\n",
       "      <th>someone</th>\n",
       "      <td>0.339320</td>\n",
       "    </tr>\n",
       "    <tr>\n",
       "      <th>thank</th>\n",
       "      <td>0.338383</td>\n",
       "    </tr>\n",
       "    <tr>\n",
       "      <th>was</th>\n",
       "      <td>0.223187</td>\n",
       "    </tr>\n",
       "    <tr>\n",
       "      <th>to</th>\n",
       "      <td>0.133707</td>\n",
       "    </tr>\n",
       "    <tr>\n",
       "      <th>portable</th>\n",
       "      <td>0.000000</td>\n",
       "    </tr>\n",
       "    <tr>\n",
       "      <th>popular</th>\n",
       "      <td>0.000000</td>\n",
       "    </tr>\n",
       "  </tbody>\n",
       "</table>\n",
       "</div>"
      ],
      "text/plain": [
       "            tf-idf\n",
       "save      0.482420\n",
       "yours     0.440517\n",
       "able      0.383143\n",
       "god       0.359284\n",
       "someone   0.339320\n",
       "thank     0.338383\n",
       "was       0.223187\n",
       "to        0.133707\n",
       "portable  0.000000\n",
       "popular   0.000000"
      ]
     },
     "execution_count": 7,
     "metadata": {},
     "output_type": "execute_result"
    }
   ],
   "source": [
    "#check tf-idf score for a tweet  \n",
    "df=pd.DataFrame(x_tfidf[0].T.todense(), index=cvector.get_feature_names(), columns=[\"tf-idf\"])\n",
    "df.sort_values(by=[\"tf-idf\"],ascending=False)[:10]"
   ]
  },
  {
   "cell_type": "code",
   "execution_count": 8,
   "metadata": {},
   "outputs": [
    {
     "name": "stderr",
     "output_type": "stream",
     "text": [
      "/home/noor/.local/lib/python3.6/site-packages/sklearn/linear_model/logistic.py:432: FutureWarning: Default solver will be changed to 'lbfgs' in 0.22. Specify a solver to silence this warning.\n",
      "  FutureWarning)\n"
     ]
    }
   ],
   "source": [
    "#cross validating on various classifiers\n",
    "models=[LogisticRegression,LinearSVC,MultinomialNB]\n",
    "temp=[]\n",
    "k=6\n",
    "cols=[\"fold\",\"classifier\",\"accuracy\"]\n",
    "for model in models:\n",
    "    classifier=model()\n",
    "    classifier_name=model.__name__\n",
    "    accuracies=cross_val_score(classifier,x_tfidf,y_train,scoring=\"accuracy\",cv=k)\n",
    "    for fold in range(k):\n",
    "        row=temp.append([fold,classifier_name,accuracies[fold]])\n",
    "new_df=pd.DataFrame(temp,columns=cols)        "
   ]
  },
  {
   "cell_type": "code",
   "execution_count": 68,
   "metadata": {},
   "outputs": [
    {
     "data": {
      "image/png": "[encoded data removed]",
      "text/plain": [
       "<Figure size 576x360 with 1 Axes>"
      ]
     },
     "metadata": {},
     "output_type": "display_data"
    }
   ],
   "source": [
    "#visualize cross validation accuracies\n",
    "plt.figure(figsize=(8,5))\n",
    "sn.set(font_scale=1.2)\n",
    "sn.set_style(\"darkgrid\")\n",
    "sn.violinplot(x=\"classifier\",y=\"accuracy\",data=new_df,palette=\"Set2\")\n",
    "sn.swarmplot(x=\"classifier\",y=\"accuracy\",data=new_df,color=\"white\",size=4,edgecolor=\"gray\")\n",
    "plt.title('Cross Validation Accuracies',fontsize=20)\n",
    "plt.xlabel(\"Classifier\",fontsize=16)\n",
    "plt.ylabel(\"Accuracy\",fontsize=16)\n",
    "plt.show()"
   ]
  },
  {
   "cell_type": "code",
   "execution_count": 14,
   "metadata": {},
   "outputs": [
    {
     "data": {
      "text/html": [
       "<div>\n",
       "<style scoped>\n",
       "    .dataframe tbody tr th:only-of-type {\n",
       "        vertical-align: middle;\n",
       "    }\n",
       "\n",
       "    .dataframe tbody tr th {\n",
       "        vertical-align: top;\n",
       "    }\n",
       "\n",
       "    .dataframe thead th {\n",
       "        text-align: right;\n",
       "    }\n",
       "</style>\n",
       "<table border=\"1\" class=\"dataframe\">\n",
       "  <thead>\n",
       "    <tr style=\"text-align: right;\">\n",
       "      <th></th>\n",
       "      <th>fold</th>\n",
       "      <th>classifier</th>\n",
       "      <th>accuracy</th>\n",
       "    </tr>\n",
       "  </thead>\n",
       "  <tbody>\n",
       "    <tr>\n",
       "      <th>0</th>\n",
       "      <td>0</td>\n",
       "      <td>LogisticRegression</td>\n",
       "      <td>0.959108</td>\n",
       "    </tr>\n",
       "    <tr>\n",
       "      <th>1</th>\n",
       "      <td>1</td>\n",
       "      <td>LogisticRegression</td>\n",
       "      <td>0.973023</td>\n",
       "    </tr>\n",
       "    <tr>\n",
       "      <th>2</th>\n",
       "      <td>2</td>\n",
       "      <td>LogisticRegression</td>\n",
       "      <td>0.968372</td>\n",
       "    </tr>\n",
       "    <tr>\n",
       "      <th>3</th>\n",
       "      <td>3</td>\n",
       "      <td>LogisticRegression</td>\n",
       "      <td>0.971163</td>\n",
       "    </tr>\n",
       "    <tr>\n",
       "      <th>4</th>\n",
       "      <td>4</td>\n",
       "      <td>LogisticRegression</td>\n",
       "      <td>0.957169</td>\n",
       "    </tr>\n",
       "  </tbody>\n",
       "</table>\n",
       "</div>"
      ],
      "text/plain": [
       "   fold          classifier  accuracy\n",
       "0     0  LogisticRegression  0.959108\n",
       "1     1  LogisticRegression  0.973023\n",
       "2     2  LogisticRegression  0.968372\n",
       "3     3  LogisticRegression  0.971163\n",
       "4     4  LogisticRegression  0.957169"
      ]
     },
     "execution_count": 14,
     "metadata": {},
     "output_type": "execute_result"
    }
   ],
   "source": [
    "new_df.head()"
   ]
  },
  {
   "cell_type": "code",
   "execution_count": 15,
   "metadata": {},
   "outputs": [],
   "source": [
    "#predicting on test set\n",
    "xtest_cvector=cvector.transform(x_test)\n",
    "xtest_tfidf=tfidf_transformer.transform(xtest_cvector)\n",
    "\n",
    "model=LinearSVC()\n",
    "model_name=model.__class__.__name__\n",
    "model.fit(x_tfidf,y_train)\n",
    "y_pred=model.predict(xtest_tfidf)"
   ]
  },
  {
   "cell_type": "code",
   "execution_count": 16,
   "metadata": {},
   "outputs": [
    {
     "name": "stdout",
     "output_type": "stream",
     "text": [
      "The Accuracy of LinearSVC model is 0.9963.\n",
      "               precision    recall  f1-score   support\n",
      "\n",
      "    Depressed       1.00      0.99      0.99       412\n",
      "Not Depressed       1.00      1.00      1.00      1201\n",
      "\n",
      "     accuracy                           1.00      1613\n",
      "    macro avg       1.00      0.99      1.00      1613\n",
      " weighted avg       1.00      1.00      1.00      1613\n",
      "\n"
     ]
    }
   ],
   "source": [
    "#evaluation\n",
    "accuracy=accuracy_score(y_test,y_pred)\n",
    "print(\"The Accuracy of %s model is %.4f.\" % (model_name,accuracy))\n",
    "\n",
    "#classification report\n",
    "report=classification_report(y_test,y_pred,target_names=[\"Depressed\",\"Not Depressed\"])\n",
    "print(report)"
   ]
  },
  {
   "cell_type": "code",
   "execution_count": 72,
   "metadata": {},
   "outputs": [
    {
     "data": {
      "image/png": "[encoded data removed]",
      "text/plain": [
       "<Figure size 576x288 with 2 Axes>"
      ]
     },
     "metadata": {},
     "output_type": "display_data"
    }
   ],
   "source": [
    "#confusion matrix\n",
    "mat=confusion_matrix(y_test,y_pred)\n",
    "mat_normal=mat/mat.astype(np.float).sum(axis=1)\n",
    "plt.figure(figsize=(8,4))\n",
    "sn.heatmap(mat_normal,annot=True,fmt='.3f',xticklabels=[\"Depressed\",\"Not-Depressed\"],yticklabels=[\"Depressed\",\"Not-Depressed\"])\n",
    "plt.yticks(rotation=0)\n",
    "plt.title(\"Normalized Confusion Matrix\",fontsize=20)\n",
    "plt.ylabel(\"Actual\",fontsize=16)\n",
    "plt.xlabel(\"Predicted\",fontsize=16)\n",
    "plt.show()"
   ]
  }
 ],
 "metadata": {
  "kernelspec": {
   "display_name": "Python 3",
   "language": "python",
   "name": "python3"
  },
  "language_info": {
   "codemirror_mode": {
    "name": "ipython",
    "version": 3
   },
   "file_extension": ".py",
   "mimetype": "text/x-python",
   "name": "python",
   "nbconvert_exporter": "python",
   "pygments_lexer": "ipython3",
   "version": "3.6.7"
  },
  "toc": {
   "base_numbering": 1,
   "nav_menu": {},
   "number_sections": true,
   "sideBar": true,
   "skip_h1_title": false,
   "title_cell": "Table of Contents",
   "title_sidebar": "Contents",
   "toc_cell": false,
   "toc_position": {},
   "toc_section_display": true,
   "toc_window_display": false
  }
 },
 "nbformat": 4,
 "nbformat_minor": 2
}
